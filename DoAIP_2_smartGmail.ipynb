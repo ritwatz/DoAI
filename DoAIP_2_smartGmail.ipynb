{
  "nbformat": 4,
  "nbformat_minor": 0,
  "metadata": {
    "colab": {
      "provenance": []
    },
    "kernelspec": {
      "name": "python3",
      "display_name": "Python 3"
    },
    "language_info": {
      "name": "python"
    }
  },
  "cells": [
    {
      "cell_type": "code",
      "execution_count": null,
      "metadata": {
        "colab": {
          "base_uri": "https://localhost:8080/"
        },
        "id": "fYk7FZn2D8WZ",
        "outputId": "5a45a90e-8719-4e53-9178-b2adcf6f0a71"
      },
      "outputs": [
        {
          "output_type": "stream",
          "name": "stderr",
          "text": [
            "[nltk_data] Downloading package punkt to /root/nltk_data...\n",
            "[nltk_data]   Package punkt is already up-to-date!\n"
          ]
        },
        {
          "output_type": "stream",
          "name": "stdout",
          "text": [
            "Enter a message : Please let me know the venue\n",
            "System: Sure, I will check and get back to you.\n"
          ]
        }
      ],
      "source": [
        "import re\n",
        "import nltk\n",
        "from sklearn.feature_extraction.text import CountVectorizer\n",
        "from sklearn.naive_bayes import MultinomialNB\n",
        "\n",
        "# Download NLTK data\n",
        "nltk.download('punkt')\n",
        "\n",
        "def preprocess_text(text):\n",
        "    text = text.lower()\n",
        "    text = re.sub(r'[^a-z\\s]', '', text)\n",
        "    return text\n",
        "\n",
        "# Sample dataset (email messages and their corresponding labels)\n",
        "emails = [\n",
        "    (\"Hey, how are you?\", \"Greeting\"),\n",
        "    (\"Please find the attached document.\", \"Request\"),\n",
        "    (\"Thank you for your email.\", \"Appreciation\")\n",
        "]\n",
        "preprocessed_emails = [(preprocess_text(text), label) for text, label in emails]\n",
        "\n",
        "# Split the data into features (X) and target variable (y)\n",
        "X = [text for text, _ in preprocessed_emails]\n",
        "y = [label for _, label in preprocessed_emails]\n",
        "\n",
        "# Feature extraction using Bag of Words representation\n",
        "vectorizer = CountVectorizer()\n",
        "X_bow = vectorizer.fit_transform(X)\n",
        "\n",
        "# Train a simple classifier (Naive Bayes) for response suggestion\n",
        "classifier = MultinomialNB()\n",
        "classifier.fit(X_bow, y)\n",
        "\n",
        "def suggest_reply(input_text):\n",
        "    preprocessed_input = preprocess_text(input_text)\n",
        "    input_bow = vectorizer.transform([preprocessed_input])\n",
        "    predicted_label = classifier.predict(input_bow)[0]\n",
        "\n",
        "    # predefined response based on the predicted label\n",
        "    if predicted_label == \"Greeting\":\n",
        "        return \"Hi there! How can I help you?\"\n",
        "    elif predicted_label == \"Request\":\n",
        "        return \"Sure, I will check and get back to you.\"\n",
        "    elif predicted_label == \"Appreciation\":\n",
        "        return \"You're welcome! Let me know if you have any more questions.\"\n",
        "    else:\n",
        "        return \"I'm not sure how to respond to that.\"\n",
        "\n",
        "user_input = input(\"Enter a message : \")\n",
        "response = suggest_reply(user_input)\n",
        "print(\"System:\", response)\n"
      ]
    },
    {
      "cell_type": "code",
      "source": [],
      "metadata": {
        "id": "lWtMPWO7EGk9"
      },
      "execution_count": null,
      "outputs": []
    }
  ]
}