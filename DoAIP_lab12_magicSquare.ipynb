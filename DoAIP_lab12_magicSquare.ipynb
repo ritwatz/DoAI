{
  "nbformat": 4,
  "nbformat_minor": 0,
  "metadata": {
    "colab": {
      "provenance": []
    },
    "kernelspec": {
      "name": "python3",
      "display_name": "Python 3"
    },
    "language_info": {
      "name": "python"
    }
  },
  "cells": [
    {
      "cell_type": "code",
      "execution_count": null,
      "metadata": {
        "id": "tzG2WRGRBUgy"
      },
      "outputs": [],
      "source": [
        "def magic_square(n):\n",
        "    #creating the n*n matrix named magicSq\n",
        "    magicSq=[]\n",
        "    for i in range(n):\n",
        "        k=[]\n",
        "        for j in range(n):\n",
        "            k.append(0)\n",
        "        magicSq.append(k)\n",
        "\n",
        "    #calculating the first position\n",
        "    row=n//2\n",
        "    col=n-1\n",
        "\n",
        "    num=n*n\n",
        "    count=1\n",
        "\n",
        "    while(count<=num):\n",
        "        if(row==-1 and col==n): #condition/step 4\n",
        "            col=n-2\n",
        "            row=0\n",
        "        else:\n",
        "            if(col==n): #if column comes at n, replace it with 0\n",
        "                col=0\n",
        "            if(row<0):  # if row comes at 0, replace it with n-1\n",
        "                row=n-1\n",
        "\n",
        "        if(magicSq[row][col]!=0): #step 3\n",
        "            col=col-2\n",
        "            row=row+1\n",
        "            continue\n",
        "\n",
        "        else:\n",
        "            magicSq[row][col]=count  #insering the values\n",
        "            count+=1\n",
        "\n",
        "        row=row-1  #step 2( normal case)\n",
        "        col=col+1\n",
        "\n",
        "    #printing the Magic Square\n",
        "\n",
        "    for i in range(n):\n",
        "        for j in range(n):\n",
        "            print(magicSq[i][j],end=\" \")\n",
        "        print()"
      ]
    },
    {
      "cell_type": "code",
      "source": [
        "magic_square(3)"
      ],
      "metadata": {
        "colab": {
          "base_uri": "https://localhost:8080/"
        },
        "id": "Nskd3yp_1Tcs",
        "outputId": "f6d2f5e3-3dc2-4945-c5b0-2bbbf58c75f3"
      },
      "execution_count": null,
      "outputs": [
        {
          "output_type": "stream",
          "name": "stdout",
          "text": [
            "2 7 6 \n",
            "9 5 1 \n",
            "4 3 8 \n"
          ]
        }
      ]
    },
    {
      "cell_type": "code",
      "source": [
        "magic_square(5)"
      ],
      "metadata": {
        "colab": {
          "base_uri": "https://localhost:8080/"
        },
        "id": "LWc5GFxj1hcc",
        "outputId": "dde59b0e-414d-4e19-c705-169df6ddf8f8"
      },
      "execution_count": null,
      "outputs": [
        {
          "output_type": "stream",
          "name": "stdout",
          "text": [
            "9 3 22 16 15 \n",
            "2 21 20 14 8 \n",
            "25 19 13 7 1 \n",
            "18 12 6 5 24 \n",
            "11 10 4 23 17 \n"
          ]
        }
      ]
    }
  ]
}